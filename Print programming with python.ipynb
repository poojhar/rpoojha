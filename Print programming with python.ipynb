{
 "cells": [
  {
   "cell_type": "code",
   "execution_count": 1,
   "metadata": {},
   "outputs": [
    {
     "name": "stdout",
     "output_type": "stream",
     "text": [
      "One of my closest friend is Neha.\n"
     ]
    }
   ],
   "source": [
    "print(\"One of my closest friend is %s.\" %'Neha')"
   ]
  },
  {
   "cell_type": "code",
   "execution_count": 3,
   "metadata": {},
   "outputs": [
    {
     "name": "stdout",
     "output_type": "stream",
     "text": [
      "My closest friend is Sneha, Aarthi.\n"
     ]
    }
   ],
   "source": [
    "print(\"My closest friend is %s.\" %'Sneha, Aarthi')\n"
   ]
  },
  {
   "cell_type": "code",
   "execution_count": 4,
   "metadata": {},
   "outputs": [
    {
     "name": "stdout",
     "output_type": "stream",
     "text": [
      "One of my closest friend is x but y is also one.\n"
     ]
    }
   ],
   "source": [
    "x , y='Neha' , 'Aarthi'\n",
    "print(\"One of my closest friend is %s but %s is also one.\"%('x','y'))"
   ]
  },
  {
   "cell_type": "code",
   "execution_count": 5,
   "metadata": {},
   "outputs": [
    {
     "name": "stdout",
     "output_type": "stream",
     "text": [
      "She said her name was Neha.\n",
      "She said her name was 'Aarthi'.\n"
     ]
    }
   ],
   "source": [
    "\n",
    "print('She said her name was %s.' %'Neha')\n",
    "print('She said her name was %r.' %'Aarthi')"
   ]
  },
  {
   "cell_type": "code",
   "execution_count": 6,
   "metadata": {},
   "outputs": [
    {
     "name": "stdout",
     "output_type": "stream",
     "text": [
      "I once caught a fish this \tbig.\n",
      "I once caught a cockroach 'this  big'.\n"
     ]
    }
   ],
   "source": [
    "print('I once caught a fish %s.' %'this \\tbig')\n",
    "print('I once caught a cockroach %r.' %'this  big')"
   ]
  },
  {
   "cell_type": "code",
   "execution_count": 7,
   "metadata": {},
   "outputs": [
    {
     "name": "stdout",
     "output_type": "stream",
     "text": [
      "I wrote 3 programs today.\n",
      "I wrote 3 programs today.\n"
     ]
    }
   ],
   "source": [
    "print('I wrote %s programs today.' %3)\n",
    "print('I wrote %d programs today.' %3.75)"
   ]
  },
  {
   "cell_type": "code",
   "execution_count": 8,
   "metadata": {},
   "outputs": [
    {
     "name": "stdout",
     "output_type": "stream",
     "text": [
      "Floating point numbers:    13.14\n"
     ]
    }
   ],
   "source": [
    "print('Floating point numbers: %8.2f' %(13.144))"
   ]
  },
  {
   "cell_type": "code",
   "execution_count": 9,
   "metadata": {},
   "outputs": [
    {
     "name": "stdout",
     "output_type": "stream",
     "text": [
      "Floating point numbers:      13.14\n"
     ]
    }
   ],
   "source": [
    "\n",
    "print('Floating point numbers: %10.2f' %(13.144))"
   ]
  },
  {
   "cell_type": "code",
   "execution_count": 11,
   "metadata": {},
   "outputs": [
    {
     "name": "stdout",
     "output_type": "stream",
     "text": [
      "Floating point numbers:                   13.14\n"
     ]
    }
   ],
   "source": [
    "\n",
    "print('Floating point numbers: %23.2f' %(13.144))"
   ]
  },
  {
   "cell_type": "code",
   "execution_count": 12,
   "metadata": {},
   "outputs": [
    {
     "name": "stdout",
     "output_type": "stream",
     "text": [
      "Floating point numbers:           13.14\n"
     ]
    }
   ],
   "source": [
    "print('Floating point numbers: %15.2f' %(13.144))"
   ]
  },
  {
   "cell_type": "code",
   "execution_count": 13,
   "metadata": {},
   "outputs": [
    {
     "name": "stdout",
     "output_type": "stream",
     "text": [
      "First: hi!, Second:  3.14, Third: 'that is pi'\n"
     ]
    }
   ],
   "source": [
    "print('First: %s, Second: %5.2f, Third: %r' %('hi!',3.1415,'that is pi'))"
   ]
  },
  {
   "cell_type": "code",
   "execution_count": 14,
   "metadata": {},
   "outputs": [
    {
     "name": "stdout",
     "output_type": "stream",
     "text": [
      "We can insert anything\n"
     ]
    }
   ],
   "source": [
    "\n",
    "print('We can {} anything' .format('insert'))"
   ]
  },
  {
   "cell_type": "code",
   "execution_count": 15,
   "metadata": {},
   "outputs": [
    {
     "name": "stdout",
     "output_type": "stream",
     "text": [
      "The quick snack is here\n"
     ]
    }
   ],
   "source": [
    "print('The {2} {1} {0}'.format('is here','snack','quick'))"
   ]
  },
  {
   "cell_type": "code",
   "execution_count": 16,
   "metadata": {},
   "outputs": [
    {
     "name": "stdout",
     "output_type": "stream",
     "text": [
      "A rupee saved is a rupee earned.\n",
      "A rupee saved is a rupee earned.\n"
     ]
    }
   ],
   "source": [
    "\n",
    "print('A %s saved is a %s earned.' %('rupee','rupee'))\n",
    "# vs.\n",
    "print('A {p} saved is a {p} earned.'.format(p='rupee'))"
   ]
  },
  {
   "cell_type": "code",
   "execution_count": 17,
   "metadata": {},
   "outputs": [
    {
     "name": "stdout",
     "output_type": "stream",
     "text": [
      "Fruit    | Quantity \n",
      "Apples   |       3.0\n",
      "Mangoes  |        10\n"
     ]
    }
   ],
   "source": [
    "\n",
    "print('{0:8} | {1:9}'.format('Fruit', 'Quantity'))\n",
    "print('{0:8} | {1:9}'.format('Apples', 3.))\n",
    "print('{0:8} | {1:9}'.format('Mangoes', 10))"
   ]
  },
  {
   "cell_type": "code",
   "execution_count": 18,
   "metadata": {},
   "outputs": [
    {
     "name": "stdout",
     "output_type": "stream",
     "text": [
      "This is my ten-character, two-decimal number:               13.58\n",
      "This is my ten-character, two-decimal number:               13.58\n"
     ]
    }
   ],
   "source": [
    "\n",
    "print('This is my ten-character, two-decimal number:%20.2f' %13.579)\n",
    "print('This is my ten-character, two-decimal number:{0:20.2f}'.format(13.579))"
   ]
  },
  {
   "cell_type": "code",
   "execution_count": 19,
   "metadata": {},
   "outputs": [
    {
     "name": "stdout",
     "output_type": "stream",
     "text": [
      "She said her name is Shreya.\n"
     ]
    }
   ],
   "source": [
    "name = 'Shreya'\n",
    "\n",
    "print(f\"She said her name is {name}.\")"
   ]
  },
  {
   "cell_type": "code",
   "execution_count": 20,
   "metadata": {},
   "outputs": [
    {
     "name": "stdout",
     "output_type": "stream",
     "text": [
      "She said her name is 'Shreya'.\n"
     ]
    }
   ],
   "source": [
    "\n",
    "name = 'Shreya'\n",
    "\n",
    "print(f\"She said her name is {name !r}.\")"
   ]
  },
  {
   "cell_type": "code",
   "execution_count": null,
   "metadata": {},
   "outputs": [],
   "source": []
  }
 ],
 "metadata": {
  "kernelspec": {
   "display_name": "Python 3",
   "language": "python",
   "name": "python3"
  },
  "language_info": {
   "codemirror_mode": {
    "name": "ipython",
    "version": 3
   },
   "file_extension": ".py",
   "mimetype": "text/x-python",
   "name": "python",
   "nbconvert_exporter": "python",
   "pygments_lexer": "ipython3",
   "version": "3.8.3"
  }
 },
 "nbformat": 4,
 "nbformat_minor": 4
}
